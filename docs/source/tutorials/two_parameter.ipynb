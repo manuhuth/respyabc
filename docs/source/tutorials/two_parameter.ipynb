{
 "cells": [
  {
   "cell_type": "code",
   "execution_count": 1,
   "id": "impressive-chinese",
   "metadata": {},
   "outputs": [],
   "source": [
    "%load_ext lab_black"
   ]
  },
  {
   "cell_type": "markdown",
   "id": "manual-price",
   "metadata": {},
   "source": [
    "# Two parameter inference"
   ]
  },
  {
   "cell_type": "markdown",
   "id": "furnished-despite",
   "metadata": {},
   "source": [
    "This example illustrates parameter inference for the discount factor $\\delta$ and the wage constant in sector a for the setting of Keane-Wolpin [(1994)](https://www.jstor.org/stable/2109768?seq=1).\n",
    "\n",
    "In this example the following moduels from `respyabc` are used:\n",
    "\n",
    "- Distance function for the descriptives:`distances.compute_mean_squared_distance`\n",
    "- Get point estimate from inference: `evaluation.compute_point_estimate`\n",
    "- Plot credibility intervals from inference:`evaluation.plot_credible_intervals`\n",
    "- Plot posterior distribution from inference:`evaluation.plot_kernel_density_posterior`\n",
    "- Simulation function of the model:`models.compute_model` \n",
    "- Inference function:`respyabc.respyabc`\n",
    "\n",
    "We can import the necessary classes and packages by"
   ]
  },
  {
   "cell_type": "code",
   "execution_count": 2,
   "id": "baking-turner",
   "metadata": {},
   "outputs": [],
   "source": [
    "import respy as rp\n",
    "import numpy as np\n",
    "\n",
    "import time\n",
    "\n",
    "from respyabc.distances import compute_mean_squared_distance\n",
    "from respyabc.evaluation import compute_point_estimate\n",
    "from respyabc.evaluation import plot_credible_intervals\n",
    "from respyabc.evaluation import plot_kernel_density_posterior\n",
    "from respyabc.models import compute_model\n",
    "from respyabc.respyabc import respyabc\n",
    "from respyabc.tools import convert_time"
   ]
  },
  {
   "cell_type": "markdown",
   "id": "funded-prague",
   "metadata": {},
   "source": [
    "## Load the default settings\n",
    "\n",
    "First, we load the settings from the first model in Keane-Wolpin [(1994)](https://www.jstor.org/stable/2109768?seq=1) using `respy`. "
   ]
  },
  {
   "cell_type": "code",
   "execution_count": 3,
   "id": "hawaiian-sister",
   "metadata": {},
   "outputs": [],
   "source": [
    "params, options, data_stored = rp.get_example_model(\"kw_94_one\")"
   ]
  },
  {
   "cell_type": "markdown",
   "id": "hundred-scientist",
   "metadata": {},
   "source": [
    "The model consits of 4 choices *sector a, sector b, schooling* and *staying at home*. This yields 30 parameters within the model. In this tutorial, we only vary over the discount factor, which is in the standard parameterization $\\delta = 0.95$."
   ]
  },
  {
   "cell_type": "code",
   "execution_count": 4,
   "id": "designed-score",
   "metadata": {},
   "outputs": [
    {
     "data": {
      "text/plain": [
       "'The default value of delta is 0.95.'"
      ]
     },
     "execution_count": 4,
     "metadata": {},
     "output_type": "execute_result"
    }
   ],
   "source": [
    "delta_default = params.loc[(\"delta\", \"delta\")][\"value\"]\n",
    "constant_a_default = params.loc[(\"wage_a\", \"constant\")][\"value\"]\n",
    "\n",
    "f\"The default value of delta is {delta_default}.\""
   ]
  },
  {
   "cell_type": "code",
   "execution_count": 5,
   "id": "efficient-substance",
   "metadata": {},
   "outputs": [
    {
     "data": {
      "text/plain": [
       "'The default value of the wage constant in sector a is 9.21.'"
      ]
     },
     "execution_count": 5,
     "metadata": {},
     "output_type": "execute_result"
    }
   ],
   "source": [
    "f\"The default value of the wage constant in sector a is {constant_a_default}.\""
   ]
  },
  {
   "cell_type": "markdown",
   "id": "fifth-transparency",
   "metadata": {},
   "source": [
    "## Simulate the true population\n",
    "\n",
    "For clarification, we reassign the default values to show how values with other options can be simulated. For a more detaield description see the tutorial on one parameter. We can address the wage constant using a melted index from its multiindex in `params`."
   ]
  },
  {
   "cell_type": "code",
   "execution_count": 6,
   "id": "elder-effectiveness",
   "metadata": {},
   "outputs": [],
   "source": [
    "model_to_simulate = rp.get_simulate_func(params, options)\n",
    "parameter_true = {\"delta_delta\": 0.95, \"wage_a_constant\": 9.21}"
   ]
  },
  {
   "cell_type": "markdown",
   "id": "later-indonesian",
   "metadata": {},
   "source": [
    "As for one parameter, the model is subsequently passed to `respyabc`'s `compute_model` function."
   ]
  },
  {
   "cell_type": "code",
   "execution_count": 7,
   "id": "derived-familiar",
   "metadata": {},
   "outputs": [],
   "source": [
    "np.random.seed(123)\n",
    "pseudo_observed_data = compute_model(\n",
    "    parameter_true,\n",
    "    model_to_simulate=model_to_simulate,\n",
    "    parameter_for_simulation=params,\n",
    "    options_for_simulation=options,\n",
    "    descriptives=\"choice_frequencies\",\n",
    ")"
   ]
  },
  {
   "cell_type": "markdown",
   "id": "moved-dublin",
   "metadata": {},
   "source": [
    "## Set the pyABC parameters\n",
    "\n",
    "We set the size of the `pyABC` samples to 500 and the maximum number of drawn populations to 10. The excact magnitudes in applications depend on the respective application."
   ]
  },
  {
   "cell_type": "code",
   "execution_count": 8,
   "id": "meaning-electricity",
   "metadata": {},
   "outputs": [],
   "source": [
    "population_size = 500\n",
    "max_nr_populations = 10"
   ]
  },
  {
   "cell_type": "markdown",
   "id": "hourly-score",
   "metadata": {},
   "source": [
    "For the two parameter inference, we need to define one prior distribution for each parameter."
   ]
  },
  {
   "cell_type": "code",
   "execution_count": 9,
   "id": "involved-placement",
   "metadata": {},
   "outputs": [],
   "source": [
    "minimum_epsilon = 0.05\n",
    "delta_prior_low = 0.9\n",
    "delta_prior_length = 0.09\n",
    "wage_a_constant_prior_low = 9\n",
    "wage_a_constant_prior_length = 0.6\n",
    "parameters_prior = {\n",
    "    \"delta_delta\": [delta_prior_low, delta_prior_length],\n",
    "    \"wage_a_constant\": [wage_a_constant_prior_low, wage_a_constant_prior_length],\n",
    "}"
   ]
  },
  {
   "cell_type": "markdown",
   "id": "naked-swimming",
   "metadata": {},
   "source": [
    "## respyabc inference\n",
    "\n",
    "As distance, we used the mean squared distances of the choice frequencies of any period. After specifying all relevant parameters, inference is conducted by using the `respyabc` function. We keep track of the simulation time to give the user a first glimpse about the timing. "
   ]
  },
  {
   "cell_type": "code",
   "execution_count": 10,
   "id": "addressed-steps",
   "metadata": {},
   "outputs": [
    {
     "name": "stderr",
     "output_type": "stream",
     "text": [
      "/home/manuel/anaconda3/lib/python3.7/site-packages/respy/pre_processing/model_processing.py:104: UserWarning: All seeds should be different.\n",
      "  warnings.warn(\"All seeds should be different.\", category=UserWarning)\n",
      "/home/manuel/anaconda3/lib/python3.7/site-packages/respy/pre_processing/model_processing.py:104: UserWarning: All seeds should be different.\n",
      "  warnings.warn(\"All seeds should be different.\", category=UserWarning)\n",
      "/home/manuel/anaconda3/lib/python3.7/site-packages/respy/pre_processing/model_processing.py:104: UserWarning: All seeds should be different.\n",
      "  warnings.warn(\"All seeds should be different.\", category=UserWarning)\n",
      "/home/manuel/anaconda3/lib/python3.7/site-packages/respy/pre_processing/model_processing.py:104: UserWarning: All seeds should be different.\n",
      "  warnings.warn(\"All seeds should be different.\", category=UserWarning)\n",
      "/home/manuel/anaconda3/lib/python3.7/site-packages/respy/pre_processing/model_processing.py:104: UserWarning: All seeds should be different.\n",
      "  warnings.warn(\"All seeds should be different.\", category=UserWarning)\n"
     ]
    }
   ],
   "source": [
    "np.random.seed(1234)\n",
    "start_time = time.perf_counter()\n",
    "history = respyabc(\n",
    "    model=compute_model,\n",
    "    parameters_prior=parameters_prior,\n",
    "    data=pseudo_observed_data,\n",
    "    distance_abc=compute_mean_squared_distance,\n",
    "    descriptives=\"choice_frequencies\",\n",
    "    population_size_abc=population_size,\n",
    "    max_nr_populations_abc=max_nr_populations,\n",
    "    minimum_epsilon_abc=minimum_epsilon,\n",
    ")\n",
    "end_time = time.perf_counter()"
   ]
  },
  {
   "cell_type": "code",
   "execution_count": 11,
   "id": "latest-study",
   "metadata": {},
   "outputs": [
    {
     "data": {
      "text/plain": [
       "'The respyabc run for delta using choice frequencies took 19.07 minutes'"
      ]
     },
     "execution_count": 11,
     "metadata": {},
     "output_type": "execute_result"
    }
   ],
   "source": [
    "delta_time, delta_unit = convert_time(end_time - start_time)\n",
    "f\"The respyabc run for delta using choice frequencies took {delta_time:0.2f} {delta_unit}\""
   ]
  },
  {
   "cell_type": "markdown",
   "id": "electoral-niger",
   "metadata": {},
   "source": [
    "## respyabc evaluation"
   ]
  },
  {
   "cell_type": "markdown",
   "id": "cathedral-republic",
   "metadata": {},
   "source": [
    "First, we compute the point estimate and its variance for both parameters. The estimate is computed by `point_estimate` as a weighted average over the latest simulated population. "
   ]
  },
  {
   "cell_type": "code",
   "execution_count": 12,
   "id": "composite-receiver",
   "metadata": {},
   "outputs": [
    {
     "data": {
      "text/html": [
       "<div>\n",
       "<style scoped>\n",
       "    .dataframe tbody tr th:only-of-type {\n",
       "        vertical-align: middle;\n",
       "    }\n",
       "\n",
       "    .dataframe tbody tr th {\n",
       "        vertical-align: top;\n",
       "    }\n",
       "\n",
       "    .dataframe thead th {\n",
       "        text-align: right;\n",
       "    }\n",
       "</style>\n",
       "<table border=\"1\" class=\"dataframe\">\n",
       "  <thead>\n",
       "    <tr style=\"text-align: right;\">\n",
       "      <th>name</th>\n",
       "      <th>delta_delta</th>\n",
       "      <th>wage_a_constant</th>\n",
       "    </tr>\n",
       "  </thead>\n",
       "  <tbody>\n",
       "    <tr>\n",
       "      <th>estimate</th>\n",
       "      <td>9.336684e-01</td>\n",
       "      <td>9.127163</td>\n",
       "    </tr>\n",
       "    <tr>\n",
       "      <th>est_variance</th>\n",
       "      <td>2.087054e-07</td>\n",
       "      <td>0.000002</td>\n",
       "    </tr>\n",
       "  </tbody>\n",
       "</table>\n",
       "</div>"
      ],
      "text/plain": [
       "name           delta_delta  wage_a_constant\n",
       "estimate      9.336684e-01         9.127163\n",
       "est_variance  2.087054e-07         0.000002"
      ]
     },
     "execution_count": 12,
     "metadata": {},
     "output_type": "execute_result"
    }
   ],
   "source": [
    "estimate = compute_point_estimate(history)\n",
    "estimate"
   ]
  },
  {
   "cell_type": "markdown",
   "id": "convinced-nickel",
   "metadata": {},
   "source": [
    "To obtain a broader overview on how the estimates evolve over the runs, we have implemented $95\\%$ credibility intervals by the function `plot_credible_intervals`. The argument `interval_type=simulated` indicates that the credibility intervals are computed as $2.5\\%$ and $97.5\\%$ percentiles of the simulated population. We do so for both parameters."
   ]
  },
  {
   "cell_type": "code",
   "execution_count": 13,
   "id": "living-nerve",
   "metadata": {},
   "outputs": [
    {
     "data": {
      "image/png": "[encoded data removed]",
      "text/plain": [
       "<Figure size 432x288 with 1 Axes>"
      ]
     },
     "metadata": {
      "needs_background": "light"
     },
     "output_type": "display_data"
    }
   ],
   "source": [
    "plot_credible_intervals(\n",
    "    history=history,\n",
    "    parameter=\"delta_delta\",\n",
    "    interval_type=\"simulated\",\n",
    "    alpha=0.05,\n",
    "    main_title=\"Credibility Intervals\",\n",
    "    y_label=\"delta\",\n",
    ")"
   ]
  },
  {
   "cell_type": "code",
   "execution_count": 14,
   "id": "taken-slide",
   "metadata": {},
   "outputs": [
    {
     "data": {
      "image/png": "[encoded data removed]",
      "text/plain": [
       "<Figure size 432x288 with 1 Axes>"
      ]
     },
     "metadata": {
      "needs_background": "light"
     },
     "output_type": "display_data"
    }
   ],
   "source": [
    "plot_credible_intervals(\n",
    "    history=history,\n",
    "    parameter=\"wage_a_constant\",\n",
    "    interval_type=\"simulated\",\n",
    "    alpha=0.05,\n",
    "    main_title=\"Credibility Intervals\",\n",
    "    y_label=\"wage constant - sector a\",\n",
    ")"
   ]
  },
  {
   "cell_type": "markdown",
   "id": "conventional-packet",
   "metadata": {},
   "source": [
    "Computing the posterior distributions can be done analogously by `plot_kernel_density_posterior` and specifying the respective argument for `parameter`."
   ]
  },
  {
   "cell_type": "code",
   "execution_count": 15,
   "id": "absolute-landscape",
   "metadata": {},
   "outputs": [
    {
     "data": {
      "image/png": "[encoded data removed]",
      "text/plain": [
       "<Figure size 432x288 with 1 Axes>"
      ]
     },
     "metadata": {
      "needs_background": "light"
     },
     "output_type": "display_data"
    }
   ],
   "source": [
    "xmax_delta = delta_prior_low + delta_prior_length\n",
    "plot_kernel_density_posterior(\n",
    "    history=history, parameter=\"delta_delta\", xmin=delta_prior_low, xmax=xmax_delta\n",
    ")"
   ]
  },
  {
   "cell_type": "code",
   "execution_count": 16,
   "id": "young-communications",
   "metadata": {},
   "outputs": [
    {
     "data": {
      "image/png": "[encoded data removed]",
      "text/plain": [
       "<Figure size 432x288 with 1 Axes>"
      ]
     },
     "metadata": {
      "needs_background": "light"
     },
     "output_type": "display_data"
    }
   ],
   "source": [
    "xmax_constant = wage_a_constant_prior_low + wage_a_constant_prior_length\n",
    "plot_kernel_density_posterior(\n",
    "    history=history,\n",
    "    parameter=\"wage_a_constant\",\n",
    "    xmin=wage_a_constant_prior_low,\n",
    "    xmax=xmax_constant,\n",
    ")"
   ]
  },
  {
   "cell_type": "code",
   "execution_count": null,
   "id": "protected-clinton",
   "metadata": {},
   "outputs": [],
   "source": []
  }
 ],
 "metadata": {
  "kernelspec": {
   "display_name": "Python 3",
   "language": "python",
   "name": "python3"
  },
  "language_info": {
   "codemirror_mode": {
    "name": "ipython",
    "version": 3
   },
   "file_extension": ".py",
   "mimetype": "text/x-python",
   "name": "python",
   "nbconvert_exporter": "python",
   "pygments_lexer": "ipython3",
   "version": "3.7.10"
  }
 },
 "nbformat": 4,
 "nbformat_minor": 5
}
