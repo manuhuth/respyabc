{
 "cells": [
  {
   "cell_type": "code",
   "execution_count": 1,
   "id": "welcome-glance",
   "metadata": {},
   "outputs": [],
   "source": [
    "%load_ext lab_black"
   ]
  },
  {
   "cell_type": "markdown",
   "id": "final-slave",
   "metadata": {},
   "source": [
    "# Model selection"
   ]
  },
  {
   "cell_type": "markdown",
   "id": "amended-electric",
   "metadata": {},
   "source": [
    "This example illustrates model selection for the setting of Keane-Wolpin [(1994)](https://www.jstor.org/stable/2109768?seq=1). We show how models with different priors and models with different summary statistics can be compared.\n",
    "\n",
    "In this example the following moduels from `respyabc` are used:\n",
    "\n",
    "- Distance function for the descriptives:`distances.compute_mean_squared_distance`\n",
    "- Get point estimate from inference: `evaluation.compute_point_estimate`\n",
    "- Plot credibility intervals from inference:`evaluation.plot_credible_intervals`\n",
    "- Plot posterior distribution from inference:`evaluation.plot_kernel_density_posterior`\n",
    "- Simulation function of the model:`models.compute_model` \n",
    "- Inference function:`respyabc.respyabc`\n",
    "\n",
    "We can import the necessary classes and packages by"
   ]
  },
  {
   "cell_type": "code",
   "execution_count": 23,
   "id": "south-mexican",
   "metadata": {},
   "outputs": [],
   "source": [
    "import respy as rp\n",
    "import numpy as np\n",
    "import time\n",
    "\n",
    "from pyabc.visualization import plot_model_probabilities\n",
    "from respyabc.distances import compute_mean_squared_distance\n",
    "from respyabc.models import compute_model\n",
    "from respyabc.respyabc import respyabc\n",
    "from respyabc.tools import convert_time"
   ]
  },
  {
   "cell_type": "markdown",
   "id": "adopted-talent",
   "metadata": {},
   "source": [
    "## Load data and simulate empirical data"
   ]
  },
  {
   "cell_type": "code",
   "execution_count": 3,
   "id": "tamil-correspondence",
   "metadata": {},
   "outputs": [],
   "source": [
    "params, options, data_stored = rp.get_example_model(\"kw_94_one\")\n",
    "model_to_simulate = rp.get_simulate_func(params, options)\n",
    "parameter_true = {\"delta_delta\": 0.95}\n",
    "np.random.seed(123)\n",
    "pseudo_observed_data = compute_model(\n",
    "    parameter_true,\n",
    "    model_to_simulate=model_to_simulate,\n",
    "    parameter_for_simulation=params,\n",
    "    options_for_simulation=options,\n",
    "    descriptives=\"choice_frequencies\",\n",
    ")"
   ]
  },
  {
   "cell_type": "markdown",
   "id": "prime-latvia",
   "metadata": {},
   "source": [
    "## Model selection with uniform priors"
   ]
  },
  {
   "cell_type": "markdown",
   "id": "conservative-magnitude",
   "metadata": {},
   "source": [
    "### Set pyABC settings"
   ]
  },
  {
   "cell_type": "code",
   "execution_count": 4,
   "id": "entitled-pickup",
   "metadata": {},
   "outputs": [],
   "source": [
    "population_size = 50\n",
    "max_nr_populations = 10"
   ]
  },
  {
   "cell_type": "markdown",
   "id": "sustainable-wiring",
   "metadata": {},
   "source": [
    "We need to specify a list of models we want to compare. In this example both models do only differ in their prior distribution. Model 1 is more centered around and we thus expect it to be more likely. We can specify a model selectio run by passing lists of models, prior and descriptives to the function."
   ]
  },
  {
   "cell_type": "code",
   "execution_count": 5,
   "id": "asian-turkish",
   "metadata": {},
   "outputs": [],
   "source": [
    "models = [compute_model, compute_model]\n",
    "parameters_prior = [\n",
    "    {\"delta_delta\": [[0.93, 0.04], \"uniform\"]},\n",
    "    {\"delta_delta\": [[0.90, 0.09], \"uniform\"]},\n",
    "]\n",
    "descriptives = [\"choice_frequencies\", \"choice_frequencies\"]"
   ]
  },
  {
   "cell_type": "markdown",
   "id": "preceding-chosen",
   "metadata": {},
   "source": [
    "### respyabc model selection"
   ]
  },
  {
   "cell_type": "markdown",
   "id": "cooked-suspect",
   "metadata": {},
   "source": [
    "Running the model selection is now similar to conducting inference. We just need to set the argument `model_selection=False` and pass the respective lists. "
   ]
  },
  {
   "cell_type": "code",
   "execution_count": 6,
   "id": "demonstrated-effort",
   "metadata": {},
   "outputs": [
    {
     "name": "stderr",
     "output_type": "stream",
     "text": [
      "/home/manuel/anaconda3/lib/python3.7/site-packages/respy/pre_processing/model_processing.py:104: UserWarning: All seeds should be different.\n",
      "  warnings.warn(\"All seeds should be different.\", category=UserWarning)\n",
      "/home/manuel/anaconda3/lib/python3.7/site-packages/respy/pre_processing/model_processing.py:104: UserWarning: All seeds should be different.\n",
      "  warnings.warn(\"All seeds should be different.\", category=UserWarning)\n",
      "/home/manuel/anaconda3/lib/python3.7/site-packages/respy/pre_processing/model_processing.py:104: UserWarning: All seeds should be different.\n",
      "  warnings.warn(\"All seeds should be different.\", category=UserWarning)\n",
      "/home/manuel/anaconda3/lib/python3.7/site-packages/respy/pre_processing/model_processing.py:104: UserWarning: All seeds should be different.\n",
      "  warnings.warn(\"All seeds should be different.\", category=UserWarning)\n",
      "/home/manuel/anaconda3/lib/python3.7/site-packages/respy/pre_processing/model_processing.py:104: UserWarning: All seeds should be different.\n",
      "  warnings.warn(\"All seeds should be different.\", category=UserWarning)\n",
      "/home/manuel/anaconda3/lib/python3.7/site-packages/respy/pre_processing/model_processing.py:104: UserWarning: All seeds should be different.\n",
      "  warnings.warn(\"All seeds should be different.\", category=UserWarning)\n",
      "/home/manuel/anaconda3/lib/python3.7/site-packages/respy/pre_processing/model_processing.py:104: UserWarning: All seeds should be different.\n",
      "  warnings.warn(\"All seeds should be different.\", category=UserWarning)\n",
      "/home/manuel/anaconda3/lib/python3.7/site-packages/respy/pre_processing/model_processing.py:104: UserWarning: All seeds should be different.\n",
      "  warnings.warn(\"All seeds should be different.\", category=UserWarning)\n"
     ]
    }
   ],
   "source": [
    "np.random.seed(1234)\n",
    "start_delta = time.perf_counter()\n",
    "history = respyabc(\n",
    "    model=models,\n",
    "    parameters_prior=parameters_prior,\n",
    "    data=pseudo_observed_data,\n",
    "    distance_abc=compute_mean_squared_distance,\n",
    "    descriptives=descriptives,\n",
    "    population_size_abc=population_size,\n",
    "    max_nr_populations_abc=max_nr_populations,\n",
    "    minimum_epsilon_abc=0.05,\n",
    "    model_selection=True,\n",
    ")\n",
    "end_delta = time.perf_counter()"
   ]
  },
  {
   "cell_type": "code",
   "execution_count": 12,
   "id": "british-registration",
   "metadata": {},
   "outputs": [
    {
     "data": {
      "text/plain": [
       "'The respyabc model selection run took 12.98 minutes'"
      ]
     },
     "execution_count": 12,
     "metadata": {},
     "output_type": "execute_result"
    }
   ],
   "source": [
    "delta_time, delta_unit = convert_time(end_delta - start_delta)\n",
    "f\"The respyabc model selection run took {delta_time:0.2f} {delta_unit}\""
   ]
  },
  {
   "cell_type": "markdown",
   "id": "broke-volume",
   "metadata": {},
   "source": [
    "### Model selection evaluation"
   ]
  },
  {
   "cell_type": "markdown",
   "id": "portable-cornwall",
   "metadata": {},
   "source": [
    "Computing the model probabilities can be easily done by applying pyABCs routines. To get the probabilities for each run we apply the `history` object and the `get_model_probabilities()` function."
   ]
  },
  {
   "cell_type": "code",
   "execution_count": 8,
   "id": "interracial-wireless",
   "metadata": {},
   "outputs": [
    {
     "data": {
      "text/html": [
       "<div>\n",
       "<style scoped>\n",
       "    .dataframe tbody tr th:only-of-type {\n",
       "        vertical-align: middle;\n",
       "    }\n",
       "\n",
       "    .dataframe tbody tr th {\n",
       "        vertical-align: top;\n",
       "    }\n",
       "\n",
       "    .dataframe thead th {\n",
       "        text-align: right;\n",
       "    }\n",
       "</style>\n",
       "<table border=\"1\" class=\"dataframe\">\n",
       "  <thead>\n",
       "    <tr style=\"text-align: right;\">\n",
       "      <th>m</th>\n",
       "      <th>0</th>\n",
       "      <th>1</th>\n",
       "    </tr>\n",
       "    <tr>\n",
       "      <th>t</th>\n",
       "      <th></th>\n",
       "      <th></th>\n",
       "    </tr>\n",
       "  </thead>\n",
       "  <tbody>\n",
       "    <tr>\n",
       "      <th>0</th>\n",
       "      <td>0.294000</td>\n",
       "      <td>0.706000</td>\n",
       "    </tr>\n",
       "    <tr>\n",
       "      <th>1</th>\n",
       "      <td>0.659763</td>\n",
       "      <td>0.340237</td>\n",
       "    </tr>\n",
       "  </tbody>\n",
       "</table>\n",
       "</div>"
      ],
      "text/plain": [
       "m         0         1\n",
       "t                    \n",
       "0  0.294000  0.706000\n",
       "1  0.659763  0.340237"
      ]
     },
     "execution_count": 8,
     "metadata": {},
     "output_type": "execute_result"
    }
   ],
   "source": [
    "model_probabilities = history.get_model_probabilities()\n",
    "model_probabilities"
   ]
  },
  {
   "cell_type": "markdown",
   "id": "upper-project",
   "metadata": {},
   "source": [
    "Plotting the probabilities directly is also already implemented in pyABC and can be done by applying the `plot_model_probabilities()` function to the `history` object."
   ]
  },
  {
   "cell_type": "code",
   "execution_count": 9,
   "id": "solid-cambodia",
   "metadata": {},
   "outputs": [
    {
     "data": {
      "text/plain": [
       "<AxesSubplot:title={'center':'Model probabilities'}, xlabel='Population index', ylabel='Probability'>"
      ]
     },
     "execution_count": 9,
     "metadata": {},
     "output_type": "execute_result"
    },
    {
     "data": {
      "image/png": "[encoded data removed]",
      "text/plain": [
       "<Figure size 432x288 with 1 Axes>"
      ]
     },
     "metadata": {
      "needs_background": "light"
     },
     "output_type": "display_data"
    }
   ],
   "source": [
    "plot_model_probabilities(history)"
   ]
  },
  {
   "cell_type": "markdown",
   "id": "colonial-professional",
   "metadata": {},
   "source": [
    "## Model selection with normal priors"
   ]
  },
  {
   "cell_type": "markdown",
   "id": "funky-converter",
   "metadata": {},
   "source": [
    "### Set normal priors"
   ]
  },
  {
   "cell_type": "code",
   "execution_count": 38,
   "id": "mexican-alberta",
   "metadata": {},
   "outputs": [],
   "source": [
    "parameters_prior = [\n",
    "    {\"delta_delta\": [[0.95, 0.02], \"norm\"]},\n",
    "    {\"delta_delta\": [[0.90, 0.02], \"norm\"]},\n",
    "]"
   ]
  },
  {
   "cell_type": "code",
   "execution_count": 39,
   "id": "geographic-canal",
   "metadata": {},
   "outputs": [
    {
     "name": "stderr",
     "output_type": "stream",
     "text": [
      "/home/manuel/anaconda3/lib/python3.7/site-packages/respy/pre_processing/model_processing.py:104: UserWarning: All seeds should be different.\n",
      "  warnings.warn(\"All seeds should be different.\", category=UserWarning)\n",
      "/home/manuel/anaconda3/lib/python3.7/site-packages/respy/pre_processing/model_processing.py:104: UserWarning: All seeds should be different.\n",
      "  warnings.warn(\"All seeds should be different.\", category=UserWarning)\n",
      "/home/manuel/anaconda3/lib/python3.7/site-packages/respy/pre_processing/model_processing.py:104: UserWarning: All seeds should be different.\n",
      "  warnings.warn(\"All seeds should be different.\", category=UserWarning)\n",
      "/home/manuel/anaconda3/lib/python3.7/site-packages/respy/pre_processing/model_processing.py:104: UserWarning: All seeds should be different.\n",
      "  warnings.warn(\"All seeds should be different.\", category=UserWarning)\n",
      "/home/manuel/anaconda3/lib/python3.7/site-packages/respy/pre_processing/model_processing.py:104: UserWarning: All seeds should be different.\n",
      "  warnings.warn(\"All seeds should be different.\", category=UserWarning)\n",
      "/home/manuel/anaconda3/lib/python3.7/site-packages/respy/pre_processing/model_processing.py:104: UserWarning: All seeds should be different.\n",
      "  warnings.warn(\"All seeds should be different.\", category=UserWarning)\n",
      "/home/manuel/anaconda3/lib/python3.7/site-packages/respy/pre_processing/model_processing.py:104: UserWarning: All seeds should be different.\n",
      "  warnings.warn(\"All seeds should be different.\", category=UserWarning)\n",
      "/home/manuel/anaconda3/lib/python3.7/site-packages/respy/pre_processing/model_processing.py:104: UserWarning: All seeds should be different.\n",
      "  warnings.warn(\"All seeds should be different.\", category=UserWarning)\n",
      "/home/manuel/anaconda3/lib/python3.7/site-packages/respy/pre_processing/model_processing.py:104: UserWarning: All seeds should be different.\n",
      "  warnings.warn(\"All seeds should be different.\", category=UserWarning)\n",
      "/home/manuel/anaconda3/lib/python3.7/site-packages/respy/pre_processing/model_processing.py:104: UserWarning: All seeds should be different.\n",
      "  warnings.warn(\"All seeds should be different.\", category=UserWarning)\n",
      "/home/manuel/anaconda3/lib/python3.7/site-packages/respy/pre_processing/model_processing.py:104: UserWarning: All seeds should be different.\n",
      "  warnings.warn(\"All seeds should be different.\", category=UserWarning)\n",
      "/home/manuel/anaconda3/lib/python3.7/site-packages/respy/pre_processing/model_processing.py:104: UserWarning: All seeds should be different.\n",
      "  warnings.warn(\"All seeds should be different.\", category=UserWarning)\n",
      "/home/manuel/anaconda3/lib/python3.7/site-packages/respy/pre_processing/model_processing.py:104: UserWarning: All seeds should be different.\n",
      "  warnings.warn(\"All seeds should be different.\", category=UserWarning)\n",
      "/home/manuel/anaconda3/lib/python3.7/site-packages/respy/pre_processing/model_processing.py:104: UserWarning: All seeds should be different.\n",
      "  warnings.warn(\"All seeds should be different.\", category=UserWarning)\n",
      "/home/manuel/anaconda3/lib/python3.7/site-packages/respy/pre_processing/model_processing.py:104: UserWarning: All seeds should be different.\n",
      "  warnings.warn(\"All seeds should be different.\", category=UserWarning)\n",
      "/home/manuel/anaconda3/lib/python3.7/site-packages/respy/pre_processing/model_processing.py:104: UserWarning: All seeds should be different.\n",
      "  warnings.warn(\"All seeds should be different.\", category=UserWarning)\n",
      "/home/manuel/anaconda3/lib/python3.7/site-packages/respy/pre_processing/model_processing.py:104: UserWarning: All seeds should be different.\n",
      "  warnings.warn(\"All seeds should be different.\", category=UserWarning)\n",
      "/home/manuel/anaconda3/lib/python3.7/site-packages/respy/pre_processing/model_processing.py:104: UserWarning: All seeds should be different.\n",
      "  warnings.warn(\"All seeds should be different.\", category=UserWarning)\n"
     ]
    }
   ],
   "source": [
    "np.random.seed(1234)\n",
    "start_delta = time.perf_counter()\n",
    "history = respyabc(\n",
    "    model=models,\n",
    "    parameters_prior=parameters_prior,\n",
    "    data=pseudo_observed_data,\n",
    "    distance_abc=compute_mean_squared_distance,\n",
    "    descriptives=descriptives,\n",
    "    population_size_abc=population_size,\n",
    "    max_nr_populations_abc=max_nr_populations,\n",
    "    minimum_epsilon_abc=0.05,\n",
    "    model_selection=True,\n",
    ")\n",
    "end_delta = time.perf_counter()"
   ]
  },
  {
   "cell_type": "code",
   "execution_count": 43,
   "id": "compact-forest",
   "metadata": {},
   "outputs": [
    {
     "data": {
      "text/plain": [
       "'The respyabc model selection run took 19.14 minutes'"
      ]
     },
     "execution_count": 43,
     "metadata": {},
     "output_type": "execute_result"
    }
   ],
   "source": [
    "delta_time, delta_unit = convert_time(end_delta - start_delta)\n",
    "f\"The respyabc model selection run took {delta_time:0.2f} {delta_unit}\""
   ]
  },
  {
   "cell_type": "markdown",
   "id": "saved-analyst",
   "metadata": {},
   "source": [
    "### Model selection evaluation"
   ]
  },
  {
   "cell_type": "code",
   "execution_count": 42,
   "id": "understood-apartment",
   "metadata": {},
   "outputs": [
    {
     "data": {
      "text/html": [
       "<div>\n",
       "<style scoped>\n",
       "    .dataframe tbody tr th:only-of-type {\n",
       "        vertical-align: middle;\n",
       "    }\n",
       "\n",
       "    .dataframe tbody tr th {\n",
       "        vertical-align: top;\n",
       "    }\n",
       "\n",
       "    .dataframe thead th {\n",
       "        text-align: right;\n",
       "    }\n",
       "</style>\n",
       "<table border=\"1\" class=\"dataframe\">\n",
       "  <thead>\n",
       "    <tr style=\"text-align: right;\">\n",
       "      <th>m</th>\n",
       "      <th>0</th>\n",
       "      <th>1</th>\n",
       "    </tr>\n",
       "    <tr>\n",
       "      <th>t</th>\n",
       "      <th></th>\n",
       "      <th></th>\n",
       "    </tr>\n",
       "  </thead>\n",
       "  <tbody>\n",
       "    <tr>\n",
       "      <th>0</th>\n",
       "      <td>0.976000</td>\n",
       "      <td>0.024000</td>\n",
       "    </tr>\n",
       "    <tr>\n",
       "      <th>1</th>\n",
       "      <td>0.964143</td>\n",
       "      <td>0.035857</td>\n",
       "    </tr>\n",
       "    <tr>\n",
       "      <th>2</th>\n",
       "      <td>0.966357</td>\n",
       "      <td>0.033643</td>\n",
       "    </tr>\n",
       "  </tbody>\n",
       "</table>\n",
       "</div>"
      ],
      "text/plain": [
       "m         0         1\n",
       "t                    \n",
       "0  0.976000  0.024000\n",
       "1  0.964143  0.035857\n",
       "2  0.966357  0.033643"
      ]
     },
     "execution_count": 42,
     "metadata": {},
     "output_type": "execute_result"
    }
   ],
   "source": [
    "model_probabilities = history.get_model_probabilities()\n",
    "model_probabilities"
   ]
  },
  {
   "cell_type": "code",
   "execution_count": 41,
   "id": "approximate-interview",
   "metadata": {},
   "outputs": [
    {
     "data": {
      "text/plain": [
       "<AxesSubplot:title={'center':'Model probabilities'}, xlabel='Population index', ylabel='Probability'>"
      ]
     },
     "execution_count": 41,
     "metadata": {},
     "output_type": "execute_result"
    },
    {
     "data": {
      "image/png": "[encoded data removed]",
      "text/plain": [
       "<Figure size 432x288 with 1 Axes>"
      ]
     },
     "metadata": {
      "needs_background": "light"
     },
     "output_type": "display_data"
    }
   ],
   "source": [
    "plot_model_probabilities(history)"
   ]
  },
  {
   "cell_type": "code",
   "execution_count": null,
   "id": "burning-history",
   "metadata": {},
   "outputs": [],
   "source": []
  }
 ],
 "metadata": {
  "kernelspec": {
   "display_name": "Python 3",
   "language": "python",
   "name": "python3"
  },
  "language_info": {
   "codemirror_mode": {
    "name": "ipython",
    "version": 3
   },
   "file_extension": ".py",
   "mimetype": "text/x-python",
   "name": "python",
   "nbconvert_exporter": "python",
   "pygments_lexer": "ipython3",
   "version": "3.7.10"
  }
 },
 "nbformat": 4,
 "nbformat_minor": 5
}
