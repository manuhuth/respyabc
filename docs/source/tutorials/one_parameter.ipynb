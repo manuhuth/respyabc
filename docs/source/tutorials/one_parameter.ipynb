{
 "cells": [
  {
   "cell_type": "code",
   "execution_count": 1,
   "id": "considered-filling",
   "metadata": {},
   "outputs": [],
   "source": [
    "%load_ext lab_black"
   ]
  },
  {
   "cell_type": "markdown",
   "id": "detailed-serum",
   "metadata": {},
   "source": [
    "# Inference for the discount factor"
   ]
  },
  {
   "cell_type": "markdown",
   "id": "latest-empty",
   "metadata": {},
   "source": [
    "This example illustrates parameter inference for the discount factor $\\delta$ for the setting of Keane-Wolpin [(1994)](https://www.jstor.org/stable/2109768?seq=1).\n",
    "\n",
    "In this example the following moduels from `respyabc` are used:\n",
    "\n",
    "- Distance function for the descriptives:`distances.compute_mean_squared_distance`\n",
    "- Get point estimate from inference: `evaluation.compute_point_estimate`\n",
    "- Plot credibility intervals from inference:`evaluation.plot_credible_intervals`\n",
    "- Plot posterior distribution from inference:`evaluation.plot_kernel_density_posterior`\n",
    "- Simulation function of the model:`models.compute_model` \n",
    "- Inference function:`respyabc.respyabc`\n",
    "\n",
    "We can import the necessary classes and packages by"
   ]
  },
  {
   "cell_type": "code",
   "execution_count": 18,
   "id": "perceived-chicago",
   "metadata": {},
   "outputs": [],
   "source": [
    "import respy as rp\n",
    "import numpy as np\n",
    "\n",
    "import time\n",
    "\n",
    "from respyabc.distances import compute_mean_squared_distance\n",
    "from respyabc.evaluation import compute_point_estimate\n",
    "from respyabc.evaluation import plot_credible_intervals\n",
    "from respyabc.evaluation import plot_kernel_density_posterior\n",
    "from respyabc.models import compute_model\n",
    "from respyabc.respyabc import respyabc\n",
    "from respyabc.tools import convert_time"
   ]
  },
  {
   "cell_type": "markdown",
   "id": "blessed-glucose",
   "metadata": {},
   "source": [
    "## Load the default settings\n",
    "\n",
    "First, we load the settings from the first model in Keane-Wolpin [(1994)](https://www.jstor.org/stable/2109768?seq=1) using `respy`. "
   ]
  },
  {
   "cell_type": "code",
   "execution_count": 3,
   "id": "alive-iceland",
   "metadata": {},
   "outputs": [],
   "source": [
    "params, options, data_stored = rp.get_example_model(\"kw_94_one\")"
   ]
  },
  {
   "cell_type": "markdown",
   "id": "convinced-smoke",
   "metadata": {},
   "source": [
    "The model consits of 4 choices *sector a, sector b, schooling* and *staying at home*. This yields 30 parameters within the model. In this tutorial, we only vary over the discount factor, which is in the standard parameterization $\\delta = 0.95$."
   ]
  },
  {
   "cell_type": "code",
   "execution_count": 4,
   "id": "enormous-energy",
   "metadata": {},
   "outputs": [
    {
     "data": {
      "text/plain": [
       "value                 0.95\n",
       "comment    discount factor\n",
       "Name: (delta, delta), dtype: object"
      ]
     },
     "execution_count": 4,
     "metadata": {},
     "output_type": "execute_result"
    }
   ],
   "source": [
    "params.loc[(\"delta\", \"delta\")]"
   ]
  },
  {
   "cell_type": "markdown",
   "id": "acoustic-fence",
   "metadata": {},
   "source": [
    "In the standard moel 1000 individuals are simulated and each individual is forward looking over 40 periods."
   ]
  },
  {
   "cell_type": "code",
   "execution_count": 5,
   "id": "stainless-sweet",
   "metadata": {},
   "outputs": [
    {
     "name": "stdout",
     "output_type": "stream",
     "text": [
      "The default setting consits of 40 periods and of 1000 independent agents.\n"
     ]
    }
   ],
   "source": [
    "periods = options[\"n_periods\"]\n",
    "agents = options[\"simulation_agents\"]\n",
    "print(\n",
    "    f\"The default setting consits of {periods} periods and of {agents} independent agents.\"\n",
    ")"
   ]
  },
  {
   "cell_type": "markdown",
   "id": "gentle-shadow",
   "metadata": {},
   "source": [
    "## Simulate the true population\n",
    "\n",
    "To simulate the true population we need to define the model that is to be simulated, the magnitude of the parameter of interest $\\delta$, and the type of descriptive statistics that are used to compute the distance inbetween 2 populations. Naming the parameter `delta_delta` semms to be unnecassarily cumbersome in the first place. However, note that `params` is a multi-indexed data frame.`respyabc` melts both indices to an index and divides them by an underscore, such that the parameter key and the data frame index can be called by one statement."
   ]
  },
  {
   "cell_type": "code",
   "execution_count": 6,
   "id": "gothic-rebate",
   "metadata": {},
   "outputs": [],
   "source": [
    "model_to_simulate = rp.get_simulate_func(params, options)\n",
    "parameter_true = {\"delta_delta\": 0.95}"
   ]
  },
  {
   "cell_type": "markdown",
   "id": "false-nowhere",
   "metadata": {},
   "source": [
    "Since in `respy` the seed is modeled within the `options`, we had to circumvent this issue by specifying a random seed inside the function for any random model draw. To ensure reproducible results, we therefore have to set a seed outside of the function that ensures that any seed that is set inside of the function is the same if the mode is run again. "
   ]
  },
  {
   "cell_type": "code",
   "execution_count": 7,
   "id": "threatened-trout",
   "metadata": {},
   "outputs": [],
   "source": [
    "np.random.seed(123)\n",
    "pseudo_observed_data = compute_model(\n",
    "    parameter_true,\n",
    "    model_to_simulate=model_to_simulate,\n",
    "    parameter_for_simulation=params,\n",
    "    options_for_simulation=options,\n",
    "    descriptives=\"choice_frequencies\",\n",
    ")"
   ]
  },
  {
   "cell_type": "markdown",
   "id": "closed-meaning",
   "metadata": {},
   "source": [
    "## Set the pyABC parameters"
   ]
  },
  {
   "cell_type": "markdown",
   "id": "amber-highway",
   "metadata": {},
   "source": [
    "We set the size of the `pyABC` samples to 500 and the maximum number of drawn populations to 10. The excact magnitudes in applications depend on the respective application."
   ]
  },
  {
   "cell_type": "code",
   "execution_count": 8,
   "id": "interstate-percentage",
   "metadata": {},
   "outputs": [],
   "source": [
    "population_size = 500\n",
    "max_nr_populations = 10"
   ]
  },
  {
   "cell_type": "markdown",
   "id": "significant-savannah",
   "metadata": {},
   "source": [
    "The minimum epsilon is set to be 0.05. This was found to be a valid epsilon in previous simulations. In practice, finding a suitbale epsilon is harder and can be done by simulation studies. The prior distribution of $\\delta$ is by default uniform. It is planend to incorporate further distributions within the next release of `respyabc`. Choosing a uniform prior has the advantage that the user implicitly sets bounds on the posterior distribution and every value has the same prior density. "
   ]
  },
  {
   "cell_type": "code",
   "execution_count": 9,
   "id": "ordered-lodge",
   "metadata": {},
   "outputs": [],
   "source": [
    "minimum_epsilon = 0.05\n",
    "delta_prior_low = 0.9\n",
    "delta_prior_length = 0.09\n",
    "parameters_prior = {\"delta_delta\": [delta_prior_low, delta_prior_length]}"
   ]
  },
  {
   "cell_type": "markdown",
   "id": "attractive-press",
   "metadata": {},
   "source": [
    "The dictionry must be read as follow. `\"delta_delta\"` is the key identifier, `delta_prior_low` is the lower bound of the uniform distribution and `delta_prioir_length` is the length of the uniform interval and **not** the upper bound. This is to be in line with the logic of `pyABC`, which follows `scipy`.  "
   ]
  },
  {
   "cell_type": "markdown",
   "id": "characteristic-despite",
   "metadata": {},
   "source": [
    "## respyabc inference"
   ]
  },
  {
   "cell_type": "markdown",
   "id": "identical-groove",
   "metadata": {},
   "source": [
    "As distance, we used the mean squared distances of the choice frequencies of any period. After specifying all relevant parameters, inference is conducted by using the `respyabc` function. We keep track of the simulation time to give the user a first glimpse about the timing. "
   ]
  },
  {
   "cell_type": "code",
   "execution_count": 10,
   "id": "parliamentary-shannon",
   "metadata": {},
   "outputs": [],
   "source": [
    "np.random.seed(1234)\n",
    "start_delta = time.perf_counter()\n",
    "history = respyabc(\n",
    "    model=compute_model,\n",
    "    parameters_prior=parameters_prior,\n",
    "    data=pseudo_observed_data,\n",
    "    distance_abc=compute_mean_squared_distance,\n",
    "    descriptives=\"choice_frequencies\",\n",
    "    population_size_abc=population_size,\n",
    "    max_nr_populations_abc=max_nr_populations,\n",
    "    minimum_epsilon_abc=minimum_epsilon,\n",
    ")\n",
    "end_delta = time.perf_counter()"
   ]
  },
  {
   "cell_type": "code",
   "execution_count": 11,
   "id": "variable-peripheral",
   "metadata": {},
   "outputs": [
    {
     "data": {
      "text/plain": [
       "'The respyabc run for delta using choice frequencies took 45.05 minutes'"
      ]
     },
     "execution_count": 11,
     "metadata": {},
     "output_type": "execute_result"
    }
   ],
   "source": [
    "delta_time, delta_unit = convert_time(end_delta - start_delta)\n",
    "f\"The respyabc run for delta using choice frequencies took {delta_time:0.2f} {delta_unit}\""
   ]
  },
  {
   "cell_type": "markdown",
   "id": "interesting-subsection",
   "metadata": {},
   "source": [
    "## respyabc evaluation\n",
    "\n",
    "Since `respyabc` returns the same type of history as the [`pyabc.ABCSMC`](https://pyabc.readthedocs.io/en/latest/api_inference.html) function, all model assessment that can be done with this class is feasible for `respyabc` model run. Additionally, we offer evaluation of the respective runs by easy implementation of plots for credibility intervals and posterior distributions.  \n",
    "\n",
    "First, we compute the point estimate and its variance. The estimate is computed by `point_estimate` as a weighted average over the latest simulated population. "
   ]
  },
  {
   "cell_type": "code",
   "execution_count": 15,
   "id": "handed-portrait",
   "metadata": {},
   "outputs": [
    {
     "data": {
      "text/html": [
       "<div>\n",
       "<style scoped>\n",
       "    .dataframe tbody tr th:only-of-type {\n",
       "        vertical-align: middle;\n",
       "    }\n",
       "\n",
       "    .dataframe tbody tr th {\n",
       "        vertical-align: top;\n",
       "    }\n",
       "\n",
       "    .dataframe thead th {\n",
       "        text-align: right;\n",
       "    }\n",
       "</style>\n",
       "<table border=\"1\" class=\"dataframe\">\n",
       "  <thead>\n",
       "    <tr style=\"text-align: right;\">\n",
       "      <th>name</th>\n",
       "      <th>delta_delta</th>\n",
       "    </tr>\n",
       "  </thead>\n",
       "  <tbody>\n",
       "    <tr>\n",
       "      <th>estimate</th>\n",
       "      <td>9.502689e-01</td>\n",
       "    </tr>\n",
       "    <tr>\n",
       "      <th>est_variance</th>\n",
       "      <td>3.490463e-10</td>\n",
       "    </tr>\n",
       "  </tbody>\n",
       "</table>\n",
       "</div>"
      ],
      "text/plain": [
       "name           delta_delta\n",
       "estimate      9.502689e-01\n",
       "est_variance  3.490463e-10"
      ]
     },
     "execution_count": 15,
     "metadata": {},
     "output_type": "execute_result"
    }
   ],
   "source": [
    "estimate = compute_point_estimate(history)\n",
    "estimate"
   ]
  },
  {
   "cell_type": "markdown",
   "id": "inside-steel",
   "metadata": {},
   "source": [
    "To obtain a broader overview on how the estimates evolve over the runs, we have implemented $95\\%$ credibility intervals by the function `plot_credible_intervals`. The argument `interval_type=simulated` indicates that the credibility intervals are computed as $2.5\\%$ and $97.5\\%$ percentiles of the simulated population."
   ]
  },
  {
   "cell_type": "code",
   "execution_count": 16,
   "id": "perfect-methodology",
   "metadata": {},
   "outputs": [
    {
     "data": {
      "image/png": "[encoded data removed]",
      "text/plain": [
       "<Figure size 432x288 with 1 Axes>"
      ]
     },
     "metadata": {
      "needs_background": "light"
     },
     "output_type": "display_data"
    }
   ],
   "source": [
    "plot_credible_intervals(\n",
    "    history=history,\n",
    "    parameter=\"delta_delta\",\n",
    "    interval_type=\"simulated\",\n",
    "    alpha=0.05,\n",
    "    main_title=\"Credibility Intervals\",\n",
    "    y_label=\"delta\",\n",
    ")"
   ]
  },
  {
   "cell_type": "markdown",
   "id": "measured-belfast",
   "metadata": {},
   "source": [
    "Concluding we can estimate the full posterior distribution as a kernel density estimate using the respective populations and weights."
   ]
  },
  {
   "cell_type": "code",
   "execution_count": 17,
   "id": "confirmed-colleague",
   "metadata": {},
   "outputs": [
    {
     "data": {
      "image/png": "[encoded data removed]",
      "text/plain": [
       "<Figure size 432x288 with 1 Axes>"
      ]
     },
     "metadata": {
      "needs_background": "light"
     },
     "output_type": "display_data"
    }
   ],
   "source": [
    "xmax = delta_prior_low + delta_prior_length\n",
    "plot_kernel_density_posterior(\n",
    "    history=history, parameter=\"delta_delta\", xmin=delta_prior_low, xmax=xmax\n",
    ")"
   ]
  },
  {
   "cell_type": "code",
   "execution_count": null,
   "id": "better-dragon",
   "metadata": {},
   "outputs": [],
   "source": []
  }
 ],
 "metadata": {
  "kernelspec": {
   "display_name": "Python 3",
   "language": "python",
   "name": "python3"
  },
  "language_info": {
   "codemirror_mode": {
    "name": "ipython",
    "version": 3
   },
   "file_extension": ".py",
   "mimetype": "text/x-python",
   "name": "python",
   "nbconvert_exporter": "python",
   "pygments_lexer": "ipython3",
   "version": "3.7.10"
  }
 },
 "nbformat": 4,
 "nbformat_minor": 5
}
