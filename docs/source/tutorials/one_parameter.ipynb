{
 "cells": [
  {
   "cell_type": "markdown",
   "id": "mysterious-canada",
   "metadata": {},
   "source": [
    "# Inference for the discount factor"
   ]
  },
  {
   "cell_type": "markdown",
   "id": "given-acting",
   "metadata": {},
   "source": [
    "This example illustrates parameter inference for the discount factor $\\delta$ for the setting of Keane-Wolpin [(1994)](https://www.jstor.org/stable/2109768?seq=1).\n",
    "\n",
    "In this example the following moduels from `respyabc` are used:\n",
    "\n",
    "- Simulation function of the model:`models.model` \n",
    "- Distance function for the descriptives:`distances.distance_mean_squared`\n",
    "- Inference function:`respyabc.respyabc`\n",
    "- Get point estimate from inference: `evaluation.point_estimate`\n",
    "- Plot credibility intervals from inference:`evaluation.plot_credible_intervals`\n",
    "- Plot posterior distribution from inference:`evaluation.plot_kernel_density_posterior`\n",
    "\n",
    "\n",
    "We can import the necessary classes and packages by"
   ]
  },
  {
   "cell_type": "code",
   "execution_count": 14,
   "id": "recreational-inside",
   "metadata": {},
   "outputs": [],
   "source": [
    "import respy as rp\n",
    "import numpy as np\n",
    "\n",
    "import time\n",
    "\n",
    "from respyabc.models import model\n",
    "from respyabc.distances import distance_mean_squared\n",
    "from respyabc.respyabc import respyabc\n",
    "from respyabc.evaluation import point_estimate\n",
    "from respyabc.evaluation import plot_credible_intervals\n",
    "from respyabc.evaluation import plot_kernel_density_posterior\n",
    "from respyabc.tools import time_convertion"
   ]
  },
  {
   "cell_type": "markdown",
   "id": "contained-carter",
   "metadata": {},
   "source": [
    "## Load the default settings\n",
    "\n",
    "First, we load the settings from the first model in Keane-Wolpin [(1994)](https://www.jstor.org/stable/2109768?seq=1) using `respy`. "
   ]
  },
  {
   "cell_type": "code",
   "execution_count": 15,
   "id": "divine-fifteen",
   "metadata": {},
   "outputs": [],
   "source": [
    "params, options, data_stored = rp.get_example_model(\"kw_94_one\")"
   ]
  },
  {
   "cell_type": "markdown",
   "id": "imposed-philippines",
   "metadata": {},
   "source": [
    "The model consits of 4 choices *sector a, sector b, schooling* and *staying at home*. This yields 30 parameters within the model. In this tutorial, we only vary over the discount factor, which is in the standard parameterization $\\delta = 0.95$."
   ]
  },
  {
   "cell_type": "code",
   "execution_count": 16,
   "id": "tough-wrestling",
   "metadata": {},
   "outputs": [
    {
     "data": {
      "text/plain": [
       "value                 0.95\n",
       "comment    discount factor\n",
       "Name: (delta, delta), dtype: object"
      ]
     },
     "execution_count": 16,
     "metadata": {},
     "output_type": "execute_result"
    }
   ],
   "source": [
    "params.loc[(\"delta\", \"delta\")]"
   ]
  },
  {
   "cell_type": "markdown",
   "id": "rough-knife",
   "metadata": {},
   "source": [
    "In the standard moel 1000 individuals are simulated and each individual is forward looking over 40 periods."
   ]
  },
  {
   "cell_type": "code",
   "execution_count": 17,
   "id": "magnetic-breach",
   "metadata": {},
   "outputs": [
    {
     "name": "stdout",
     "output_type": "stream",
     "text": [
      "The default setting consits of 40 periods and of 1000 independent agents.\n"
     ]
    }
   ],
   "source": [
    "periods = options[\"n_periods\"]\n",
    "agents = options[\"simulation_agents\"]\n",
    "print(f\"The default setting consits of {periods} periods and of {agents} independent agents.\")"
   ]
  },
  {
   "cell_type": "markdown",
   "id": "double-beauty",
   "metadata": {},
   "source": [
    "## Simulate the true population\n",
    "\n",
    "To simulate the true population we need to define the model that is to be simulated, the magnitude of the parameter of interest $\\delta$, and the type of descriptive statistics that are used to compute the distance inbetween 2 populations. Naming the parameter `delta_delta` semms to be unnecassarily cumbersome in the first place. However, note that `params` is a multi-indexed data frame.`respyabc` melts both indices to an index and divides them by an underscore, such that the parameter key and the data frame index can be called by one statement."
   ]
  },
  {
   "cell_type": "code",
   "execution_count": 18,
   "id": "jewish-citation",
   "metadata": {},
   "outputs": [],
   "source": [
    "model_to_simulate = rp.get_simulate_func(params, options)\n",
    "parameter_true = {'delta_delta': 0.95}"
   ]
  },
  {
   "cell_type": "markdown",
   "id": "light-basin",
   "metadata": {},
   "source": [
    "Since in `respy` the seed is modeled within the `options`, we had to circumvent this issue by specifying a random seed inside the function for any random model draw. To ensure reproducible results, we therefore have to set a seed outside of the function that ensures that any seed that is set inside of the function is the same if the mode is run again. "
   ]
  },
  {
   "cell_type": "code",
   "execution_count": 19,
   "id": "placed-retailer",
   "metadata": {},
   "outputs": [],
   "source": [
    "np.random.seed(123)\n",
    "pseudo_observed_data = model(parameter_true, model_to_simulate=model_to_simulate,\n",
    "                         parameter_for_simulation = params, options_for_simulation=options,\n",
    "                         descriptives=\"choice_frequencies\")"
   ]
  },
  {
   "cell_type": "markdown",
   "id": "veterinary-madison",
   "metadata": {},
   "source": [
    "## Set the pyABC parameters"
   ]
  },
  {
   "cell_type": "markdown",
   "id": "aging-softball",
   "metadata": {},
   "source": [
    "We set the size of the `pyABC` samples to 500 and the maximum number of drawn populations to 10. The excact magnitudes in applications depend on the respective application."
   ]
  },
  {
   "cell_type": "code",
   "execution_count": 26,
   "id": "linear-composition",
   "metadata": {},
   "outputs": [],
   "source": [
    "population_size = 500\n",
    "max_nr_populations = 10"
   ]
  },
  {
   "cell_type": "markdown",
   "id": "viral-payment",
   "metadata": {},
   "source": [
    "The minimum epsilon is set to be 0.05. This was found to be a valid epsilon in previous simulations. In practice, finding a suitbale epsilon is harder and can be done by simulation studies. The prior distribution of $\\delta$ is by default uniform. It is planend to incorporate further distributions within the next release of `respyabc`. Choosing a uniform prior has the advantage that the user implicitly sets bounds on the posterior distribution and every value has the same prior density. "
   ]
  },
  {
   "cell_type": "code",
   "execution_count": 27,
   "id": "pretty-timothy",
   "metadata": {},
   "outputs": [],
   "source": [
    "minimum_epsilon = 0.05\n",
    "delta_prior_low = 0.9\n",
    "delta_prior_length = 0.09\n",
    "parameters_prior = {'delta_delta' : [delta_prior_low, delta_prior_length]}"
   ]
  },
  {
   "cell_type": "markdown",
   "id": "herbal-productivity",
   "metadata": {},
   "source": [
    "The dictionry must be read as follow. `\"delta_delta\"` is the key identifier, `delta_prior_low` is the lower bound of the uniform distribution and `delta_prioir_length` is the length of the uniform interval and **not** the upper bound. This is to be in line with the logic of `pyABC`, which follows `scipy`.  "
   ]
  },
  {
   "cell_type": "markdown",
   "id": "standard-girlfriend",
   "metadata": {},
   "source": [
    "## respyabc inference"
   ]
  },
  {
   "cell_type": "markdown",
   "id": "pleasant-dominican",
   "metadata": {},
   "source": [
    "As distance, we used the mean squared distances of the choice frequencies of any period. After specifying all relevant parameters, inference is conducted by using the `respyabc` function. We keep track of the simulation time to give the user a first glimpse about the timing. "
   ]
  },
  {
   "cell_type": "code",
   "execution_count": 28,
   "id": "vital-tenant",
   "metadata": {},
   "outputs": [
    {
     "name": "stderr",
     "output_type": "stream",
     "text": [
      "/home/manuel/anaconda3/lib/python3.7/site-packages/respy/pre_processing/model_processing.py:104: UserWarning: All seeds should be different.\n",
      "  warnings.warn(\"All seeds should be different.\", category=UserWarning)\n"
     ]
    },
    {
     "data": {
      "text/plain": [
       "'The respyabc run for delta using choice frequencies took 27.77 minutes'"
      ]
     },
     "execution_count": 28,
     "metadata": {},
     "output_type": "execute_result"
    }
   ],
   "source": [
    "np.random.seed(1234)\n",
    "start_delta = time.perf_counter()\n",
    "history = respyabc(model=model, parameters_prior=parameters_prior, data=pseudo_observed_data,\n",
    "                   distance_abc=distance_mean_squared, descriptives=\"choice_frequencies\", \n",
    "                   population_size_abc = population_size, max_nr_populations_abc = max_nr_populations,\n",
    "                   minimum_epsilon_abc=minimum_epsilon)\n",
    "end_delta = time.perf_counter()\n",
    "delta_time, delta_unit = time_convertion(end_delta - start_delta)\n",
    "f\"The respyabc run for delta using choice frequencies took {delta_time:0.2f} {delta_unit}\""
   ]
  },
  {
   "cell_type": "markdown",
   "id": "short-korea",
   "metadata": {},
   "source": [
    "## respyabc evaluation\n",
    "\n",
    "Since `respyabc` returns the same type of history as the [`pyabc.ABCSMC`](https://pyabc.readthedocs.io/en/latest/api_inference.html) function, all model assessment that can be done with this class is feasible for `respyabc` model run. Additionally, we offer evaluation of the respective runs by easy implementation of plots for credibility intervals and posterior distributions.  \n",
    "\n",
    "First, we compute the point estimate and its variance. The estimate is computed by `point_estimate` as a weighted average over the latest simulated population. "
   ]
  },
  {
   "cell_type": "code",
   "execution_count": 29,
   "id": "stuffed-recognition",
   "metadata": {},
   "outputs": [
    {
     "data": {
      "text/html": [
       "<div>\n",
       "<style scoped>\n",
       "    .dataframe tbody tr th:only-of-type {\n",
       "        vertical-align: middle;\n",
       "    }\n",
       "\n",
       "    .dataframe tbody tr th {\n",
       "        vertical-align: top;\n",
       "    }\n",
       "\n",
       "    .dataframe thead th {\n",
       "        text-align: right;\n",
       "    }\n",
       "</style>\n",
       "<table border=\"1\" class=\"dataframe\">\n",
       "  <thead>\n",
       "    <tr style=\"text-align: right;\">\n",
       "      <th>name</th>\n",
       "      <th>delta_delta</th>\n",
       "    </tr>\n",
       "  </thead>\n",
       "  <tbody>\n",
       "    <tr>\n",
       "      <th>estimate</th>\n",
       "      <td>9.500341e-01</td>\n",
       "    </tr>\n",
       "    <tr>\n",
       "      <th>est_variance</th>\n",
       "      <td>1.533024e-10</td>\n",
       "    </tr>\n",
       "  </tbody>\n",
       "</table>\n",
       "</div>"
      ],
      "text/plain": [
       "name           delta_delta\n",
       "estimate      9.500341e-01\n",
       "est_variance  1.533024e-10"
      ]
     },
     "execution_count": 29,
     "metadata": {},
     "output_type": "execute_result"
    }
   ],
   "source": [
    "estimate = point_estimate(history)\n",
    "estimate"
   ]
  },
  {
   "cell_type": "markdown",
   "id": "dense-there",
   "metadata": {},
   "source": [
    "To obtain a broader overview on how the estimates evolve over the runs, we have implemented $95\\%$ credibility intervals by the function `plot_credible_intervals`. The argument `interval_type=simulated` indicates that the credibility intervals are computed as $2.5\\%$ and $97.5\\%$ percentiles of the simulated population."
   ]
  },
  {
   "cell_type": "code",
   "execution_count": 30,
   "id": "threatened-blast",
   "metadata": {},
   "outputs": [
    {
     "data": {
      "image/png": "[encoded data removed]",
      "text/plain": [
       "<Figure size 432x288 with 1 Axes>"
      ]
     },
     "metadata": {
      "needs_background": "light"
     },
     "output_type": "display_data"
    }
   ],
   "source": [
    "plot_credible_intervals(history=history, parameter=\"delta_delta\", interval_type=\"simulated\", alpha=0.05,\n",
    "                        main_title=\"Credibility Intervals\", y_label=\"delta\")"
   ]
  },
  {
   "cell_type": "markdown",
   "id": "complimentary-insulin",
   "metadata": {},
   "source": [
    "Concluding we can estimate the full posterior distribution as a kernel density estimate using the respective populations and weights."
   ]
  },
  {
   "cell_type": "code",
   "execution_count": 31,
   "id": "digital-consultation",
   "metadata": {},
   "outputs": [
    {
     "data": {
      "image/png": "[encoded data removed]",
      "text/plain": [
       "<Figure size 432x288 with 1 Axes>"
      ]
     },
     "metadata": {
      "needs_background": "light"
     },
     "output_type": "display_data"
    }
   ],
   "source": [
    "xmax= delta_prior_low + delta_prior_length\n",
    "plot_kernel_density_posterior(history=history, parameter='delta_delta',\n",
    "                              xmin=delta_prior_low, xmax=xmax)"
   ]
  },
  {
   "cell_type": "code",
   "execution_count": null,
   "id": "together-print",
   "metadata": {},
   "outputs": [],
   "source": []
  }
 ],
 "metadata": {
  "kernelspec": {
   "display_name": "Python 3",
   "language": "python",
   "name": "python3"
  },
  "language_info": {
   "codemirror_mode": {
    "name": "ipython",
    "version": 3
   },
   "file_extension": ".py",
   "mimetype": "text/x-python",
   "name": "python",
   "nbconvert_exporter": "python",
   "pygments_lexer": "ipython3",
   "version": "3.7.10"
  }
 },
 "nbformat": 4,
 "nbformat_minor": 5
}
